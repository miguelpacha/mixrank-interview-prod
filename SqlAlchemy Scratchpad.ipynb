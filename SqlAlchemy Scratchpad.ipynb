{
 "cells": [
  {
   "cell_type": "code",
   "execution_count": 1,
   "id": "4bfe4322",
   "metadata": {},
   "outputs": [],
   "source": [
    "from sqlalchemy import (\n",
    "  create_engine, Column, Integer, String, Boolean, ForeignKey, func, distinct\n",
    ")\n",
    "from sqlalchemy.orm import declarative_base, aliased, sessionmaker"
   ]
  },
  {
   "cell_type": "code",
   "execution_count": 2,
   "id": "dfaffd01",
   "metadata": {},
   "outputs": [],
   "source": [
    "Base = declarative_base()\n",
    "\n",
    "class App(Base):\n",
    "    __tablename__ = 'app'\n",
    "    id = Column(Integer, primary_key=True)\n",
    "    name = Column(String)\n",
    "    \n",
    "    def __repr__(self):\n",
    "       return f\"<App (name='{self.name}')>\" \n",
    "\n",
    "class Sdk(Base):\n",
    "    __tablename__ = 'sdk'\n",
    "    id = Column(Integer, primary_key=True)\n",
    "    name = Column(String)\n",
    "    slug = Column(String)\n",
    "    def __repr__(self):\n",
    "       return f\"<SDK (name='{self.name}' slug='{self.slug}')>\" \n",
    "\n",
    "class AppSdk(Base):\n",
    "    __tablename__ = 'app_sdk'\n",
    "    app_id = Column(Integer, ForeignKey(\"app.id\"), primary_key=True)\n",
    "    sdk_id = Column(Integer, ForeignKey(\"sdk.id\"), primary_key=True)\n",
    "    installed = Column(Boolean)\n",
    "    \n",
    "    def __repr__(self):\n",
    "       return f\"<app_id='{self.app_id}' self.sdk='{self.sdk_id}' installed={self.installed}>\" "
   ]
  },
  {
   "cell_type": "code",
   "execution_count": 3,
   "id": "71a9f95a",
   "metadata": {},
   "outputs": [],
   "source": [
    "engine = create_engine(\"sqlite:///data.db\", echo=True, future=True)\n",
    "Session = sessionmaker(bind=engine)\n",
    "session = Session()"
   ]
  },
  {
   "cell_type": "code",
   "execution_count": 4,
   "id": "fd87b04a",
   "metadata": {},
   "outputs": [],
   "source": [
    "sdk_choice = \"paypal braintree stripe\".split() # slugs\n",
    "\n",
    "sdk_sql_selector = Sdk.slug.in_(sdk_choice)"
   ]
  },
  {
   "cell_type": "code",
   "execution_count": 5,
   "id": "c0bee2b1",
   "metadata": {},
   "outputs": [
    {
     "name": "stdout",
     "output_type": "stream",
     "text": [
      "2022-09-11 20:00:18,716 INFO sqlalchemy.engine.Engine BEGIN (implicit)\n",
      "2022-09-11 20:00:18,722 INFO sqlalchemy.engine.Engine SELECT app_sdk_1.app_id AS app_sdk_1_app_id, app_sdk_1.sdk_id AS app_sdk_1_sdk_id, app_sdk_1.installed AS app_sdk_1_installed, app_sdk_2.app_id AS app_sdk_2_app_id, app_sdk_2.sdk_id AS app_sdk_2_sdk_id, app_sdk_2.installed AS app_sdk_2_installed, sdk_1.id AS sdk_1_id, sdk_1.name AS sdk_1_name, sdk_1.slug AS sdk_1_slug, sdk_2.id AS sdk_2_id, sdk_2.name AS sdk_2_name, sdk_2.slug AS sdk_2_slug, count(DISTINCT app_sdk_1.app_id) AS count_1 \n",
      "FROM app_sdk AS app_sdk_1, app_sdk AS app_sdk_2, sdk AS sdk_1, sdk AS sdk_2 \n",
      "WHERE app_sdk_1.app_id = app_sdk_2.app_id AND app_sdk_1.sdk_id = sdk_1.id AND app_sdk_2.sdk_id = sdk_2.id AND app_sdk_1.installed = 0 AND app_sdk_2.installed = 1 AND sdk_1.slug IN (?, ?, ?) AND sdk_2.slug IN (?, ?, ?) GROUP BY sdk_1.id, sdk_2.id\n",
      "2022-09-11 20:00:18,723 INFO sqlalchemy.engine.Engine [generated in 0.00103s] ('paypal', 'braintree', 'stripe', 'paypal', 'braintree', 'stripe')\n",
      "\n",
      "paypal stripe 20\n",
      "paypal braintree 48\n",
      "stripe paypal 1\n",
      "stripe braintree 6\n",
      "braintree paypal 11\n",
      "braintree stripe 12\n"
     ]
    }
   ],
   "source": [
    "T1 = aliased(AppSdk)\n",
    "T2 = aliased(AppSdk)\n",
    "\n",
    "Sdk1 = aliased(Sdk)\n",
    "Sdk2 = aliased(Sdk)\n",
    "\n",
    "root_query = (\n",
    "  session\n",
    "  .query(T1, T2, Sdk1, Sdk2, func.count(distinct(T1.app_id)))\n",
    "  .filter(\n",
    "    T1.app_id == T2.app_id,\n",
    "    T1.sdk_id==Sdk1.id,\n",
    "    T2.sdk_id==Sdk2.id,\n",
    "    T1.installed == False,\n",
    "    T2.installed == True,\n",
    "  )\n",
    ")\n",
    "\n",
    "\n",
    "churn_main = (\n",
    "  root_query\n",
    "  .filter(\n",
    "    Sdk1.slug.in_(sdk_choice),\n",
    "    Sdk2.slug.in_(sdk_choice)\n",
    "   )\n",
    "  .group_by(Sdk1.id, Sdk2.id)\n",
    ").all()\n",
    "\n",
    "print()\n",
    "for _, _, sdk1, sdk2, count in churn_main:\n",
    "  print(sdk1.slug, sdk2.slug, count)"
   ]
  },
  {
   "cell_type": "code",
   "execution_count": 6,
   "id": "007677ac",
   "metadata": {},
   "outputs": [
    {
     "name": "stdout",
     "output_type": "stream",
     "text": [
      "2022-09-11 20:00:18,745 INFO sqlalchemy.engine.Engine SELECT app_sdk_1.app_id AS app_sdk_1_app_id, app_sdk_1.sdk_id AS app_sdk_1_sdk_id, app_sdk_1.installed AS app_sdk_1_installed, app_sdk_2.app_id AS app_sdk_2_app_id, app_sdk_2.sdk_id AS app_sdk_2_sdk_id, app_sdk_2.installed AS app_sdk_2_installed, sdk_1.id AS sdk_1_id, sdk_1.name AS sdk_1_name, sdk_1.slug AS sdk_1_slug, sdk_2.id AS sdk_2_id, sdk_2.name AS sdk_2_name, sdk_2.slug AS sdk_2_slug, count(DISTINCT app_sdk_1.app_id) AS count_1 \n",
      "FROM app_sdk AS app_sdk_1, app_sdk AS app_sdk_2, sdk AS sdk_1, sdk AS sdk_2 \n",
      "WHERE app_sdk_1.app_id = app_sdk_2.app_id AND app_sdk_1.sdk_id = sdk_1.id AND app_sdk_2.sdk_id = sdk_2.id AND app_sdk_1.installed = 0 AND app_sdk_2.installed = 1 AND (sdk_1.slug NOT IN (?, ?, ?)) AND sdk_2.slug IN (?, ?, ?) GROUP BY sdk_2.id\n",
      "2022-09-11 20:00:18,750 INFO sqlalchemy.engine.Engine [generated in 0.00531s] ('paypal', 'braintree', 'stripe', 'paypal', 'braintree', 'stripe')\n",
      "\n",
      "paypal 47\n",
      "stripe 121\n",
      "braintree 80\n"
     ]
    }
   ],
   "source": [
    "churn_from_none = (\n",
    "  root_query\n",
    "  .filter(\n",
    "    Sdk1.slug.not_in(sdk_choice),\n",
    "    Sdk2.slug.in_(sdk_choice)\n",
    "   )\n",
    "  .group_by(Sdk2.id)\n",
    ").all()\n",
    "\n",
    "print()\n",
    "for _, _, _, sdk2, count in churn_from_none:\n",
    "  print(sdk2.slug, count)"
   ]
  },
  {
   "cell_type": "code",
   "execution_count": 7,
   "id": "2bbe2bb7",
   "metadata": {},
   "outputs": [
    {
     "name": "stdout",
     "output_type": "stream",
     "text": [
      "2022-09-11 20:00:18,792 INFO sqlalchemy.engine.Engine SELECT app_sdk_1.app_id AS app_sdk_1_app_id, app_sdk_1.sdk_id AS app_sdk_1_sdk_id, app_sdk_1.installed AS app_sdk_1_installed, app_sdk_2.app_id AS app_sdk_2_app_id, app_sdk_2.sdk_id AS app_sdk_2_sdk_id, app_sdk_2.installed AS app_sdk_2_installed, sdk_1.id AS sdk_1_id, sdk_1.name AS sdk_1_name, sdk_1.slug AS sdk_1_slug, sdk_2.id AS sdk_2_id, sdk_2.name AS sdk_2_name, sdk_2.slug AS sdk_2_slug, count(DISTINCT app_sdk_1.app_id) AS count_1 \n",
      "FROM app_sdk AS app_sdk_1, app_sdk AS app_sdk_2, sdk AS sdk_1, sdk AS sdk_2 \n",
      "WHERE app_sdk_1.app_id = app_sdk_2.app_id AND app_sdk_1.sdk_id = sdk_1.id AND app_sdk_2.sdk_id = sdk_2.id AND app_sdk_1.installed = 0 AND app_sdk_2.installed = 1 AND sdk_1.slug IN (?, ?, ?) AND (sdk_2.slug NOT IN (?, ?, ?)) GROUP BY sdk_1.id\n",
      "2022-09-11 20:00:18,793 INFO sqlalchemy.engine.Engine [generated in 0.00118s] ('paypal', 'braintree', 'stripe', 'paypal', 'braintree', 'stripe')\n",
      "\n",
      "paypal 139\n",
      "stripe 50\n",
      "braintree 51\n"
     ]
    }
   ],
   "source": [
    "churn_to_none = (\n",
    "  root_query\n",
    "  .filter(\n",
    "    Sdk1.slug.in_(sdk_choice),\n",
    "    Sdk2.slug.not_in(sdk_choice)\n",
    "   )\n",
    "  .group_by(Sdk1.id)\n",
    ").all()\n",
    "\n",
    "print()\n",
    "for _, _, sdk1, _, count in churn_to_none:\n",
    "  print(sdk1.slug, count)"
   ]
  },
  {
   "cell_type": "code",
   "execution_count": 8,
   "id": "02715ad9",
   "metadata": {},
   "outputs": [
    {
     "name": "stdout",
     "output_type": "stream",
     "text": [
      "2022-09-11 20:00:18,847 INFO sqlalchemy.engine.Engine SELECT count(DISTINCT app_sdk.app_id) AS count_1, app_sdk.app_id AS app_sdk_app_id, app_sdk.sdk_id AS app_sdk_sdk_id, app_sdk.installed AS app_sdk_installed, sdk.id AS sdk_id, sdk.name AS sdk_name, sdk.slug AS sdk_slug \n",
      "FROM app_sdk, sdk \n",
      "WHERE app_sdk.sdk_id = sdk.id AND app_sdk.installed = 1 AND sdk.slug IN (?, ?, ?) GROUP BY sdk.id\n",
      "2022-09-11 20:00:18,851 INFO sqlalchemy.engine.Engine [generated in 0.00362s] ('paypal', 'braintree', 'stripe')\n",
      "\n",
      "<SDK (name='PayPal' slug='paypal')> 84\n",
      "<SDK (name='Stripe' slug='stripe')> 172\n",
      "<SDK (name='Braintree' slug='braintree')> 145\n"
     ]
    }
   ],
   "source": [
    "totals = (\n",
    "  session\n",
    "  .query(func.count(distinct(AppSdk.app_id)), AppSdk, Sdk)\n",
    "  .filter(\n",
    "    AppSdk.sdk_id==Sdk.id,\n",
    "    AppSdk.installed == True,\n",
    "    Sdk.slug.in_(sdk_choice),\n",
    "   )\n",
    "  .group_by(Sdk.id)\n",
    ").all()\n",
    "\n",
    "print()\n",
    "for count, _, sdk in totals:\n",
    "  print(sdk, count)"
   ]
  },
  {
   "cell_type": "code",
   "execution_count": 9,
   "id": "13a93d0e",
   "metadata": {},
   "outputs": [
    {
     "name": "stdout",
     "output_type": "stream",
     "text": [
      "2022-09-11 20:00:18,874 INFO sqlalchemy.engine.Engine SELECT count(app.id) AS count_1 \n",
      "FROM app \n",
      "WHERE NOT (EXISTS (SELECT 1 \n",
      "FROM app_sdk, sdk \n",
      "WHERE app_sdk.sdk_id = sdk.id AND sdk.slug IN (?, ?, ?) AND app_sdk.installed = ? AND app_sdk.app_id = app.id))\n",
      "2022-09-11 20:00:18,875 INFO sqlalchemy.engine.Engine [generated in 0.00202s] ('paypal', 'braintree', 'stripe', 1)\n",
      "\n",
      "9657\n"
     ]
    }
   ],
   "source": [
    "not_involved = (\n",
    "  session\n",
    "  .query(func.count(App.id))\n",
    "  .filter(\n",
    "    ~session\n",
    "    .query(AppSdk, Sdk)\n",
    "    .filter(AppSdk.sdk_id == Sdk.id )\n",
    "    .filter(Sdk.slug.in_(sdk_choice))\n",
    "    .filter(AppSdk.installed == 1 )\n",
    "    .filter(AppSdk.app_id == App.id)\n",
    "    .exists()\n",
    "  )\n",
    ").all()\n",
    "\n",
    "\n",
    "print()\n",
    "for count, in not_involved:\n",
    "  print(count)\n"
   ]
  },
  {
   "cell_type": "code",
   "execution_count": null,
   "id": "01457e28",
   "metadata": {},
   "outputs": [],
   "source": []
  }
 ],
 "metadata": {
  "kernelspec": {
   "display_name": "Python 3 (ipykernel)",
   "language": "python",
   "name": "python3"
  },
  "language_info": {
   "codemirror_mode": {
    "name": "ipython",
    "version": 3
   },
   "file_extension": ".py",
   "mimetype": "text/x-python",
   "name": "python",
   "nbconvert_exporter": "python",
   "pygments_lexer": "ipython3",
   "version": "3.8.5"
  }
 },
 "nbformat": 4,
 "nbformat_minor": 5
}
